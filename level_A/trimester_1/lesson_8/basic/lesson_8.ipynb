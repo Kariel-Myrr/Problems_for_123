{
 "cells": [
  {
   "cell_type": "markdown",
   "source": [
    "# Дополнительный урок. Координаты. 1 триместр\n",
    "\n",
    "A - Одномерный правый индекс\n",
    "B - Одномерный минимум\n",
    "C - Вывести количество смен максимума\n",
    "D - Для каждого элемента, выведите максимум, который был, когда вы рассматривали элемент\n",
    "E - Максимум среди четных элементов, иначе -1\n",
    "F - В count каждый раз видя эл-т выводить что то в print\n",
    "G - Для двумерного массива найти сумму\n",
    "H - Для двумерного массива найти мин\n",
    "I - Для двумерного массива кол-во вхождения элемента\n",
    "J - Вывести все вхождения элемента в массиве в массив\n",
    "\n",
    "- Считайте, что теперь максимум - это тот элемент, в котором больше всего 0"
   ],
   "metadata": {
    "collapsed": false
   }
  },
  {
   "cell_type": "markdown",
   "source": [
    "## 8_A\n",
    "\n",
    "Найти последний(правый) индекс эл-та Х в одномерном массиве.\n",
    "Если элемента нет, выведите -1.\n",
    "\n",
    "0 < a_i < 1_000_000\n",
    "0 < x < 1_000_000"
   ],
   "metadata": {
    "collapsed": false
   }
  },
  {
   "cell_type": "code",
   "execution_count": null,
   "outputs": [],
   "source": [
    "arr = [int(i) for i in input().split()]\n",
    "x = int(input())\n",
    "\n",
    "for i in range(len(arr)-1, 0, -1):\n",
    "    if x == arr[i]:\n",
    "        print(i)\n",
    "        break\n",
    "else:\n",
    "    print(-1)\n"
   ],
   "metadata": {
    "collapsed": false
   }
  },
  {
   "cell_type": "markdown",
   "source": [
    "## 8_B\n",
    "\n",
    "Найти минимум в одномерном массиве\n",
    "\n",
    "0 < a_i < 1_000_000"
   ],
   "metadata": {
    "collapsed": false
   }
  },
  {
   "cell_type": "code",
   "execution_count": 1,
   "outputs": [
    {
     "name": "stdout",
     "output_type": "stream",
     "text": [
      "-1\n"
     ]
    }
   ],
   "source": [
    "arr = [int(i) for i in input().split()]\n",
    "min_ = 1_000_000_000\n",
    "\n",
    "for i in range(0, len(arr)):\n",
    "    if min_ > arr[i]:\n",
    "        min_ = arr[i]\n",
    "\n",
    "print(min_)"
   ],
   "metadata": {
    "collapsed": false
   }
  },
  {
   "cell_type": "markdown",
   "source": [
    "## 8_C\n",
    "\n",
    "Вывести количество смен максимума.\n",
    "Заметим, что если вам попадаеться два одинаковых числа, максимум менять не нужно.\n",
    "\n",
    "0 < a_i < 1_000_000"
   ],
   "metadata": {
    "collapsed": false
   }
  },
  {
   "cell_type": "code",
   "execution_count": null,
   "outputs": [],
   "source": [
    "arr = [int(i) for i in input().split()]\n",
    "max_ = -1\n",
    "count = 0\n",
    "\n",
    "for i in range(0, len(arr)):\n",
    "    if max_ < arr[i]:\n",
    "        max_ = arr[i]\n",
    "        count += 1\n",
    "\n",
    "print(count, max_)"
   ],
   "metadata": {
    "collapsed": false
   }
  },
  {
   "cell_type": "markdown",
   "source": [
    "## 8_D\n",
    "\n",
    "Для каждого элемента, выведите максимум, который был, когда вы рассматривали элемент\n",
    "\n",
    "0 < a_i < 1_000_000\n",
    "Note: сам максимум выводить не нужно"
   ],
   "metadata": {
    "collapsed": false
   }
  },
  {
   "cell_type": "code",
   "execution_count": null,
   "outputs": [],
   "source": [
    "arr = [int(i) for i in input().split()]\n",
    "max_ = -1\n",
    "\n",
    "for i in range(0, len(arr)):\n",
    "    print(max_)\n",
    "    if max_ < arr[i]:\n",
    "        max_ = arr[i]\n"
   ],
   "metadata": {
    "collapsed": false
   }
  },
  {
   "cell_type": "markdown",
   "source": [
    "## 8_E\n",
    "\n",
    "Максимум среди четных элементов, иначе -1\n",
    "\n",
    "0 < a_i < 1_000_000"
   ],
   "metadata": {
    "collapsed": false
   }
  },
  {
   "cell_type": "code",
   "execution_count": null,
   "outputs": [],
   "source": [
    "arr = [int(i) for i in input().split()]\n",
    "max_ = -1\n",
    "\n",
    "for i in range(0, len(arr)):\n",
    "    if arr[i] % 2 == 0 and max_ < arr[i]:\n",
    "        max_ = arr[i]\n",
    "\n",
    "print(max_)"
   ],
   "metadata": {
    "collapsed": false
   }
  },
  {
   "cell_type": "markdown",
   "source": [
    "## 8_F\n",
    "\n",
    "В count каждый раз видя эл-т X выводить его индекс\n",
    "\n",
    "0 < a_i < 1_000_000"
   ],
   "metadata": {
    "collapsed": false
   }
  },
  {
   "cell_type": "code",
   "execution_count": null,
   "outputs": [],
   "source": [
    "arr = [int(i) for i in input().split()]\n",
    "x = int(input())\n",
    "count = 0\n",
    "\n",
    "for i in range(0, len(arr)):\n",
    "    if x == arr[i]:\n",
    "        print(i)\n",
    "        count+=1\n",
    "\n",
    "print(count)"
   ],
   "metadata": {
    "collapsed": false
   }
  },
  {
   "cell_type": "markdown",
   "source": [
    "## 8_G\n",
    "\n",
    "Найти сумму двумерного массива\n",
    "\n",
    "0 < N < 100\n",
    "0 < a_i_j < 1_000_000\n",
    "\n",
    "Note: вам понадобятся вложенные циклы"
   ],
   "metadata": {
    "collapsed": false
   }
  },
  {
   "cell_type": "code",
   "execution_count": 2,
   "outputs": [
    {
     "ename": "ValueError",
     "evalue": "not enough values to unpack (expected 2, got 0)",
     "output_type": "error",
     "traceback": [
      "\u001B[0;31m---------------------------------------------------------------------------\u001B[0m",
      "\u001B[0;31mValueError\u001B[0m                                Traceback (most recent call last)",
      "Cell \u001B[0;32mIn [2], line 3\u001B[0m\n\u001B[1;32m      1\u001B[0m \u001B[38;5;28;01mimport\u001B[39;00m \u001B[38;5;21;01mmath\u001B[39;00m\n\u001B[0;32m----> 3\u001B[0m x1, y1 \u001B[38;5;241m=\u001B[39m [\u001B[38;5;28mint\u001B[39m(i) \u001B[38;5;28;01mfor\u001B[39;00m i \u001B[38;5;129;01min\u001B[39;00m \u001B[38;5;28minput\u001B[39m()\u001B[38;5;241m.\u001B[39msplit()]\n\u001B[1;32m      4\u001B[0m x2, y2 \u001B[38;5;241m=\u001B[39m [\u001B[38;5;28mint\u001B[39m(i) \u001B[38;5;28;01mfor\u001B[39;00m i \u001B[38;5;129;01min\u001B[39;00m \u001B[38;5;28minput\u001B[39m()\u001B[38;5;241m.\u001B[39msplit()]\n\u001B[1;32m      6\u001B[0m d \u001B[38;5;241m=\u001B[39m math\u001B[38;5;241m.\u001B[39msqrt((x2 \u001B[38;5;241m-\u001B[39m x1) \u001B[38;5;241m*\u001B[39m\u001B[38;5;241m*\u001B[39m \u001B[38;5;241m2\u001B[39m \u001B[38;5;241m+\u001B[39m (y2 \u001B[38;5;241m-\u001B[39m y1) \u001B[38;5;241m*\u001B[39m\u001B[38;5;241m*\u001B[39m \u001B[38;5;241m2\u001B[39m)\n",
      "\u001B[0;31mValueError\u001B[0m: not enough values to unpack (expected 2, got 0)"
     ]
    }
   ],
   "source": [
    "n = int(input())\n",
    "arr = [[int(j) for j in input().split()] for i in range(n)]\n",
    "\n",
    "sum_ = 0\n",
    "for i in range( 0, len(arr) ) :\n",
    "\tfor j in range( 0, len(arr[i]) ):\n",
    "\t\tsum_ += arr[i][j]\n",
    "\n",
    "print(sum_)"
   ],
   "metadata": {
    "collapsed": false
   }
  },
  {
   "cell_type": "markdown",
   "source": [
    "## 8_H\n",
    "\n",
    "Найти минимум двумерного массива\n",
    "\n",
    "0 < N < 100 - количество строк двухмерного массива\n",
    "\n",
    "0 < a_i_j < 1_000_000"
   ],
   "metadata": {
    "collapsed": false
   }
  },
  {
   "cell_type": "code",
   "execution_count": null,
   "outputs": [],
   "source": [
    "n = int(input())\n",
    "arr = [[int(j) for j in input().split()] for i in range(n)]\n",
    "\n",
    "min_ = 1_000_000_000_0\n",
    "for i in range( 0, len(arr) ) :\n",
    "    for j in range( 0, len(arr[i]) ):\n",
    "        if min_ > arr[i][j]:\n",
    "            min_ = arr[i][j]\n",
    "\n",
    "print(min_)\n"
   ],
   "metadata": {
    "collapsed": false
   }
  },
  {
   "cell_type": "markdown",
   "source": [
    "## 8_I\n",
    "\n",
    "Найти количество вхождений элемента в двумерный массив\n",
    "\n",
    "0 < N < 100 - количество строк двухмерного массива\n",
    "\n",
    "0 < a_i_j < 1_000_000\n",
    "\n",
    "Note: используйте exit(0)"
   ],
   "metadata": {
    "collapsed": false
   }
  },
  {
   "cell_type": "code",
   "execution_count": null,
   "outputs": [],
   "source": [
    "n = int(input())\n",
    "arr = [[int(j) for j in input().split()] for i in range(n)]\n",
    "x = int(input())\n",
    "\n",
    "for i in range( 0, len(arr) ) :\n",
    "    for j in range( 0, len(arr[i]) ):\n",
    "        if x == arr[i][j]:\n",
    "            print(i, j)\n",
    "            exit(0)\n",
    "else:\n",
    "    print(-1)"
   ],
   "metadata": {
    "collapsed": false
   }
  },
  {
   "cell_type": "markdown",
   "source": [
    "## 8_J\n",
    "\n",
    "Вывести все вхождения элемента в массиве в массив индексов"
   ],
   "metadata": {
    "collapsed": false
   }
  },
  {
   "cell_type": "code",
   "execution_count": 2,
   "outputs": [
    {
     "name": "stdout",
     "output_type": "stream",
     "text": [
      "0.6 4.0\n"
     ]
    }
   ],
   "source": [
    "arr = [int(j) for j in input().split()]\n",
    "x = int(input())\n",
    "ind_arr = []\n",
    "\n",
    "for i in range( 0, len(arr) ) :\n",
    "    if x == arr[i]:\n",
    "        ind_arr.append(i)\n",
    "\n",
    "print(ind_arr)"
   ],
   "metadata": {
    "collapsed": false
   }
  },
  {
   "cell_type": "code",
   "execution_count": null,
   "outputs": [],
   "source": [],
   "metadata": {
    "collapsed": false
   }
  }
 ],
 "metadata": {
  "kernelspec": {
   "display_name": "Python 3",
   "language": "python",
   "name": "python3"
  },
  "language_info": {
   "codemirror_mode": {
    "name": "ipython",
    "version": 2
   },
   "file_extension": ".py",
   "mimetype": "text/x-python",
   "name": "python",
   "nbconvert_exporter": "python",
   "pygments_lexer": "ipython2",
   "version": "2.7.6"
  }
 },
 "nbformat": 4,
 "nbformat_minor": 0
}
