{
 "cells": [
  {
   "cell_type": "markdown",
   "source": [
    "# Дополнительный урок. Координаты. 1 триместр\n",
    "\n",
    "A - Дан прямоугольник заданный угловыми точками. Найти его высоту и ширину\n",
    "B - Дан прямоугольник заданный угловыми точками. Найти его периметр\n",
    "C - Дан прямоугольник заданный угловыми точками. Найти его площадь\n",
    "D - Дан прямоугольник заданный угловыми точками - найти его середину\n",
    "E - Дан прямоугольник заданный центральной точкой и его высотой и шириной.\n",
    "    Вывести угловые точки.\n",
    "F - Дана точка и прямоугольник. Сказать является ли точка в прямоугольнике\n",
    "G - Найти длину диагоналей\n",
    "H - Дана последовательность точек - найти длину пути\n",
    "I - Дана прямая и точка. Сказать ниже или выше прямой\n",
    "J - Даны две точки - вывести уравнение прямой"
   ],
   "metadata": {
    "collapsed": false
   }
  },
  {
   "cell_type": "markdown",
   "source": [
    "## dop_A\n",
    "\n",
    "Дан прямоугольник заданный угловыми точками. Найти его высоту и ширину"
   ],
   "metadata": {
    "collapsed": false
   }
  },
  {
   "cell_type": "code",
   "execution_count": null,
   "outputs": [],
   "source": [
    "x1, y1 = [int(i) for i in input().split()]\n",
    "x2, y2 = [int(i) for i in input().split()]\n",
    "\n",
    "print((x2 - x1), (y2 - y1))"
   ],
   "metadata": {
    "collapsed": false
   }
  },
  {
   "cell_type": "markdown",
   "source": [
    "## dop_B\n",
    "\n",
    "Дан прямоугольник заданный угловыми точками. Найти его периметр"
   ],
   "metadata": {
    "collapsed": false
   }
  },
  {
   "cell_type": "code",
   "execution_count": null,
   "outputs": [],
   "source": [
    "x1, y1 = [int(i) for i in input().split()]\n",
    "x2, y2 = [int(i) for i in input().split()]\n",
    "\n",
    "print(2 * (x2 - x1) + 2 * (y2 - y1))"
   ],
   "metadata": {
    "collapsed": false
   }
  },
  {
   "cell_type": "markdown",
   "source": [
    "## dop_C\n",
    "\n",
    "Дан прямоугольник заданный угловыми точками. Найти его площадь"
   ],
   "metadata": {
    "collapsed": false
   }
  },
  {
   "cell_type": "code",
   "execution_count": null,
   "outputs": [],
   "source": [
    "x1, y1 = [int(i) for i in input().split()]\n",
    "x2, y2 = [int(i) for i in input().split()]\n",
    "\n",
    "print((x2 - x1) * (y2 - y1))"
   ],
   "metadata": {
    "collapsed": false
   }
  },
  {
   "cell_type": "markdown",
   "source": [
    "## dop_D\n",
    "\n",
    "Дан прямоугольник заданный угловыми точками. Найти его середину"
   ],
   "metadata": {
    "collapsed": false
   }
  },
  {
   "cell_type": "code",
   "execution_count": null,
   "outputs": [],
   "source": [
    "x1, y1 = [int(i) for i in input().split()]\n",
    "x2, y2 = [int(i) for i in input().split()]\n",
    "\n",
    "print((x2 - x1) / 2 + x1, (y2 - y1) / 2 + y1)"
   ],
   "metadata": {
    "collapsed": false
   }
  },
  {
   "cell_type": "markdown",
   "source": [
    "## dop_E\n",
    "\n",
    "Дан прямоугольник заданный центральной точкой и его шириной и высотой.\n",
    "Вывести угловые точки."
   ],
   "metadata": {
    "collapsed": false
   }
  },
  {
   "cell_type": "code",
   "execution_count": null,
   "outputs": [],
   "source": [
    "x, y = [int(i) for i in input().split()]\n",
    "w, h = [int(i) for i in input().split()]\n",
    "\n",
    "print( x - w/2, y - h/2)\n",
    "print( x + w/2, y + h/2)"
   ],
   "metadata": {
    "collapsed": false
   }
  },
  {
   "cell_type": "markdown",
   "source": [
    "## dop_F\n",
    "\n",
    "Дана точка и прямоугольник. Сказать является ли точка в прямоугольнике"
   ],
   "metadata": {
    "collapsed": false
   }
  },
  {
   "cell_type": "code",
   "execution_count": null,
   "outputs": [],
   "source": [
    "x, y = [int(i) for i in input().split()]\n",
    "x1, y1 = [int(i) for i in input().split()]\n",
    "x2, y2 = [int(i) for i in input().split()]\n",
    "\n",
    "if x1 <= x and x <= x2 and y1 <= y and y <= y2:\n",
    "    print(\"YES\")\n",
    "else:\n",
    "    print(\"NO\")"
   ],
   "metadata": {
    "collapsed": false
   }
  },
  {
   "cell_type": "markdown",
   "source": [
    "## dop_G\n",
    "\n",
    "Дан прямоугольник заданный угловыми точками. Найти длину диагоналей"
   ],
   "metadata": {
    "collapsed": false
   }
  },
  {
   "cell_type": "code",
   "execution_count": null,
   "outputs": [],
   "source": [
    "import math\n",
    "\n",
    "x1, y1 = [int(i) for i in input().split()]\n",
    "x2, y2 = [int(i) for i in input().split()]\n",
    "\n",
    "d = math.sqrt((x2 - x1) ** 2 + (y2 - y1) ** 2)\n",
    "\n",
    "print(d, d)"
   ],
   "metadata": {
    "collapsed": false
   }
  },
  {
   "cell_type": "markdown",
   "source": [
    "## dop_H\n",
    "\n",
    "Дана последовательность точек - найти длину пути"
   ],
   "metadata": {
    "collapsed": false
   }
  },
  {
   "cell_type": "code",
   "execution_count": null,
   "outputs": [],
   "source": [
    "n = int(input())\n",
    "\n",
    "sum_ = 0\n",
    "x_prev, y_prev = [int(i) for i in input().split()]\n",
    "\n",
    "for i in range(n - 1) :\n",
    "    x_cur, y_cur = [int(i) for i in input().split()]\n",
    "    sum_ += math.sqrt((x_prev - x_cur) ** 2 + (y_prev - y_cur) ** 2)\n",
    "    x_prev, y_prev = x_cur, y_cur\n",
    "\n",
    "print(sum_)\n"
   ],
   "metadata": {
    "collapsed": false
   }
  },
  {
   "cell_type": "markdown",
   "source": [
    "## dop_I\n",
    "\n",
    "Дана прямая и точка. Сказать ниже или выше прямой"
   ],
   "metadata": {
    "collapsed": false
   }
  },
  {
   "cell_type": "code",
   "execution_count": null,
   "outputs": [],
   "source": [
    "a, b = [int(i) for i in input().split()]\n",
    "x, y = [int(i) for i in input().split()]\n",
    "\n",
    "if y < a * x + b :\n",
    "    print(\"lower\")\n",
    "else:\n",
    "    print(\"higher\")"
   ],
   "metadata": {
    "collapsed": false
   }
  },
  {
   "cell_type": "markdown",
   "source": [
    "## dop_J\n",
    "\n",
    "Даны две точки - вывести уравнение прямой"
   ],
   "metadata": {
    "collapsed": false
   }
  },
  {
   "cell_type": "code",
   "execution_count": 2,
   "outputs": [
    {
     "name": "stdout",
     "output_type": "stream",
     "text": [
      "0.6 4.0\n"
     ]
    }
   ],
   "source": [
    "x1, y1 = [int(i) for i in input().split()]\n",
    "x2, y2 = [int(i) for i in input().split()]\n",
    "\n",
    "k = (y2 - y1) / (x2 - x1)\n",
    "\n",
    "b = y1 - k * x1\n",
    "\n",
    "print(k, b)"
   ],
   "metadata": {
    "collapsed": false
   }
  },
  {
   "cell_type": "code",
   "execution_count": null,
   "outputs": [],
   "source": [],
   "metadata": {
    "collapsed": false
   }
  }
 ],
 "metadata": {
  "kernelspec": {
   "display_name": "Python 3",
   "language": "python",
   "name": "python3"
  },
  "language_info": {
   "codemirror_mode": {
    "name": "ipython",
    "version": 2
   },
   "file_extension": ".py",
   "mimetype": "text/x-python",
   "name": "python",
   "nbconvert_exporter": "python",
   "pygments_lexer": "ipython2",
   "version": "2.7.6"
  }
 },
 "nbformat": 4,
 "nbformat_minor": 0
}
