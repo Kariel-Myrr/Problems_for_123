{
 "cells": [
  {
   "cell_type": "markdown",
   "source": [
    "# Дополнительный урок. Координаты. 1 триместр\n",
    "\n",
    "A - Написать функцию расстояния\n",
    "B - Пересечение прямоугольников\n",
    "C - * Окружность\n",
    "D - ** Дана последовательность точек. И возможность перелетать с одной на другую или через одну. Минимальный маршрут\n"
   ],
   "metadata": {
    "collapsed": false
   }
  },
  {
   "cell_type": "markdown",
   "source": [
    "# dop_A\n",
    "\n",
    "Написать функцию расстояния\n"
   ],
   "metadata": {
    "collapsed": false
   }
  },
  {
   "cell_type": "code",
   "execution_count": null,
   "outputs": [],
   "source": [
    "import math\n",
    "\n",
    "def dist(x_1, y_1, x_2, y_2) :\n",
    "    return math.sqrt( (x_2 - x_1) ** 2 + (y_2 - y_1) ** 2 )\n",
    "\n",
    "x1, y1 = [int(i) for i in input().split()]\n",
    "x2, y2 = [int(i) for i in input().split()]\n",
    "\n",
    "print(dist(x1, y1, x2, y2))\n"
   ],
   "metadata": {
    "collapsed": false
   }
  },
  {
   "cell_type": "markdown",
   "source": [
    "# dop_B\n",
    "\n",
    "Пересечение прямоугольников"
   ],
   "metadata": {
    "collapsed": false
   }
  },
  {
   "cell_type": "code",
   "execution_count": 1,
   "outputs": [
    {
     "ename": "ValueError",
     "evalue": "not enough values to unpack (expected 2, got 0)",
     "output_type": "error",
     "traceback": [
      "\u001B[0;31m---------------------------------------------------------------------------\u001B[0m",
      "\u001B[0;31mValueError\u001B[0m                                Traceback (most recent call last)",
      "Cell \u001B[0;32mIn [1], line 1\u001B[0m\n\u001B[0;32m----> 1\u001B[0m a_x1, a_y1 \u001B[38;5;241m=\u001B[39m [\u001B[38;5;28mint\u001B[39m(i) \u001B[38;5;28;01mfor\u001B[39;00m i \u001B[38;5;129;01min\u001B[39;00m \u001B[38;5;28minput\u001B[39m()\u001B[38;5;241m.\u001B[39msplit()]\n\u001B[1;32m      2\u001B[0m a_x2, a_y2 \u001B[38;5;241m=\u001B[39m [\u001B[38;5;28mint\u001B[39m(i) \u001B[38;5;28;01mfor\u001B[39;00m i \u001B[38;5;129;01min\u001B[39;00m \u001B[38;5;28minput\u001B[39m()\u001B[38;5;241m.\u001B[39msplit()]\n\u001B[1;32m      4\u001B[0m b_x1, b_y1 \u001B[38;5;241m=\u001B[39m [\u001B[38;5;28mint\u001B[39m(i) \u001B[38;5;28;01mfor\u001B[39;00m i \u001B[38;5;129;01min\u001B[39;00m \u001B[38;5;28minput\u001B[39m()\u001B[38;5;241m.\u001B[39msplit()]\n",
      "\u001B[0;31mValueError\u001B[0m: not enough values to unpack (expected 2, got 0)"
     ]
    }
   ],
   "source": [
    "a_x1, a_y1 = [int(i) for i in input().split()]\n",
    "a_x2, a_y2 = [int(i) for i in input().split()]\n",
    "\n",
    "b_x1, b_y1 = [int(i) for i in input().split()]\n",
    "b_x2, b_y2 = [int(i) for i in input().split()]\n",
    "\n",
    "\n",
    "if a_y1 > b_y2 or a_y2 < b_y1 or a_x2 < b_x1 or a_x1 > b_x2 :\n",
    "    print(\"NO\")\n",
    "else:\n",
    "    print(\"YES\")\n"
   ],
   "metadata": {
    "collapsed": false
   }
  },
  {
   "cell_type": "markdown",
   "source": [
    "# dop_C\n",
    "\n",
    "Окружность"
   ],
   "metadata": {
    "collapsed": false
   }
  },
  {
   "cell_type": "code",
   "execution_count": null,
   "outputs": [],
   "source": [
    "def dist(x_1, y_1, x_2, y_2) :\n",
    "    return math.sqrt( (x_2 - x_1) ** 2 + (y_2 - y_1) ** 2 )\n",
    "\n",
    "x, y = [int(i) for i in input().split()]\n",
    "x1, y1, r = [int(i) for i in input().split()]\n",
    "\n",
    "if dist(x, y, x1, y1) <= r :\n",
    "    print(\"YES\")\n",
    "else:\n",
    "    print(\"NO\")\n"
   ],
   "metadata": {
    "collapsed": false
   }
  },
  {
   "cell_type": "markdown",
   "source": [
    "# dop_D\n",
    "\n",
    "Дана последовательность точек. И возможность перелетать с одной на другую или через одну. Минимальный маршрут"
   ],
   "metadata": {
    "collapsed": false
   }
  },
  {
   "cell_type": "code",
   "execution_count": null,
   "outputs": [],
   "source": [
    "import math\n",
    "\n",
    "n = int(input())\n",
    "\n",
    "dists = []\n",
    "x_prev, y_prev = [int(i) for i in input().split()]\n",
    "\n",
    "for i in range(n - 1) :\n",
    "    x_cur, y_cur = [int(i) for i in input().split()]\n",
    "    dists.append(math.sqrt((x_prev - x_cur) ** 2 + (y_prev - y_cur) ** 2))\n",
    "    x_prev, y_prev = x_cur, y_cur\n",
    "\n",
    "dp = [0, dists[0]]\n",
    "\n",
    "for i in range(2, n):\n",
    "    dp.append(min(dp[i-1] + dists[i], dp[i-1] + dists[i-1]))\n",
    "\n",
    "print(dp[-1])"
   ],
   "metadata": {
    "collapsed": false
   }
  }
 ],
 "metadata": {
  "kernelspec": {
   "display_name": "Python 3",
   "language": "python",
   "name": "python3"
  },
  "language_info": {
   "codemirror_mode": {
    "name": "ipython",
    "version": 2
   },
   "file_extension": ".py",
   "mimetype": "text/x-python",
   "name": "python",
   "nbconvert_exporter": "python",
   "pygments_lexer": "ipython2",
   "version": "2.7.6"
  }
 },
 "nbformat": 4,
 "nbformat_minor": 0
}
