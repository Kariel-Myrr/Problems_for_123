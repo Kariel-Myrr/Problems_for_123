{
 "cells": [
  {
   "cell_type": "markdown",
   "source": [
    "# Дополнительный урок. Координаты. 1 триместр\n",
    "\n",
    "A - Одномерный правый индекс\n",
    "B - Одномерный минимум\n",
    "C - Вывести количество смен максимума\n",
    "D - Для каждого элемента, выведите максимум, который был, когда вы рассматривали элемент\n",
    "E - Максимум среди четных элементов, иначе -1\n",
    "F - В count каждый раз видя эл-т выводить что то в print\n",
    "G - Для двумерного массива найти сумму\n",
    "H - Для двумерного массива найти мин\n",
    "I - Для двумерного массива кол-во вхождения элемента\n",
    "J - Вывести все вхождения элемента в массиве в массив\n",
    "\n",
    "- Считайте, что теперь максимум - это тот элемент, в котором больше всего 0"
   ],
   "metadata": {
    "collapsed": false
   }
  },
  {
   "cell_type": "markdown",
   "source": [
    "## 8_A\n",
    "\n",
    "Найти последний(правый) индекс эл-та Х в одномерном массиве.\n",
    "Если элемента нет, выведите -1.\n",
    "\n",
    "0 < a_i < 1_000_000\n",
    "0 < x < 1_000_000"
   ],
   "metadata": {
    "collapsed": false
   }
  },
  {
   "cell_type": "code",
   "execution_count": 1,
   "outputs": [
    {
     "ename": "ValueError",
     "evalue": "invalid literal for int() with base 10: ''",
     "output_type": "error",
     "traceback": [
      "\u001B[0;31m---------------------------------------------------------------------------\u001B[0m",
      "\u001B[0;31mValueError\u001B[0m                                Traceback (most recent call last)",
      "Cell \u001B[0;32mIn [1], line 2\u001B[0m\n\u001B[1;32m      1\u001B[0m arr \u001B[38;5;241m=\u001B[39m [\u001B[38;5;28mint\u001B[39m(i) \u001B[38;5;28;01mfor\u001B[39;00m i \u001B[38;5;129;01min\u001B[39;00m \u001B[38;5;28minput\u001B[39m()\u001B[38;5;241m.\u001B[39msplit()]\n\u001B[0;32m----> 2\u001B[0m x \u001B[38;5;241m=\u001B[39m \u001B[38;5;28;43mint\u001B[39;49m\u001B[43m(\u001B[49m\u001B[38;5;28;43minput\u001B[39;49m\u001B[43m(\u001B[49m\u001B[43m)\u001B[49m\u001B[43m)\u001B[49m\n\u001B[1;32m      4\u001B[0m \u001B[38;5;28;01mfor\u001B[39;00m i \u001B[38;5;129;01min\u001B[39;00m \u001B[38;5;28mrange\u001B[39m(\u001B[38;5;28mlen\u001B[39m(arr)\u001B[38;5;241m-\u001B[39m\u001B[38;5;241m1\u001B[39m, \u001B[38;5;241m0\u001B[39m, \u001B[38;5;241m-\u001B[39m\u001B[38;5;241m1\u001B[39m):\n\u001B[1;32m      5\u001B[0m     \u001B[38;5;28;01mif\u001B[39;00m x \u001B[38;5;241m==\u001B[39m arr[i]:\n",
      "\u001B[0;31mValueError\u001B[0m: invalid literal for int() with base 10: ''"
     ]
    }
   ],
   "source": [
    "\n",
    "in_file = open(\"input.txt\", \"r\")\n",
    "out_file = open(\"output.txt\", \"w\")\n",
    "\n",
    "arr = [int(i) for i in in_file.readline().split()]\n",
    "x = int(in_file.readline())\n",
    "\n",
    "for i in range(len(arr)-1, 0, -1):\n",
    "    if x == arr[i]:\n",
    "        out_file.write(str(i))\n",
    "        break\n",
    "else:\n",
    "    out_file.write(\"-1\")\n",
    "\n",
    "in_file.close()\n",
    "out_file.close()\n"
   ],
   "metadata": {
    "collapsed": false
   }
  },
  {
   "cell_type": "markdown",
   "source": [
    "## 8_B\n",
    "\n",
    "Вывести \"Hello World!\" в выходной файл"
   ],
   "metadata": {
    "collapsed": false
   }
  },
  {
   "cell_type": "code",
   "execution_count": 1,
   "outputs": [
    {
     "name": "stdout",
     "output_type": "stream",
     "text": [
      "-1\n"
     ]
    }
   ],
   "source": [
    "\n",
    "out_file = open(\"output.txt\", \"w\")\n",
    "out_file.write(\"Hello World!\\n\")\n",
    "out_file.close()\n"
   ],
   "metadata": {
    "collapsed": false
   }
  },
  {
   "cell_type": "markdown",
   "source": [
    "## 8_C\n",
    "\n",
    "Прочитать число из входного файла и вывести в обычный выход.\n"
   ],
   "metadata": {
    "collapsed": false
   }
  },
  {
   "cell_type": "code",
   "execution_count": null,
   "outputs": [],
   "source": [
    "in_file = open(\"input.txt\", \"r\")\n",
    "\n",
    "a = int(in_file.readline())\n",
    "\n",
    "print(a)\n",
    "\n",
    "in_file.close()"
   ],
   "metadata": {
    "collapsed": false
   }
  },
  {
   "cell_type": "markdown",
   "source": [
    "## 8_D\n",
    "\n",
    "Прочитать два числа из файла и вывести их сумму в выходной файл"
   ],
   "metadata": {
    "collapsed": false
   }
  },
  {
   "cell_type": "code",
   "execution_count": null,
   "outputs": [],
   "source": [
    "in_file = open(\"input.txt\", \"r\")\n",
    "out_file = open(\"output.txt\", \"w\")\n",
    "\n",
    "a = int(in_file.readline())\n",
    "b = int(in_file.readline())\n",
    "\n",
    "out_file.write(str(a+b))\n",
    "\n",
    "in_file.close()\n",
    "out_file.close()"
   ],
   "metadata": {
    "collapsed": false
   }
  },
  {
   "cell_type": "markdown",
   "source": [
    "## 8_E\n",
    "\n",
    "Прочитать два числа из файла и вывести их сумму в выходной файл.\n",
    "\n",
    "Да, очень похоже на предыдущую задачу. Но она другая. Внимательно читате условие и форматы ввода вывода"
   ],
   "metadata": {
    "collapsed": false
   }
  },
  {
   "cell_type": "code",
   "execution_count": 3,
   "outputs": [
    {
     "ename": "FileNotFoundError",
     "evalue": "[Errno 2] No such file or directory: 'input.txt'",
     "output_type": "error",
     "traceback": [
      "\u001B[0;31m---------------------------------------------------------------------------\u001B[0m",
      "\u001B[0;31mFileNotFoundError\u001B[0m                         Traceback (most recent call last)",
      "Cell \u001B[0;32mIn [3], line 1\u001B[0m\n\u001B[0;32m----> 1\u001B[0m in_file \u001B[38;5;241m=\u001B[39m \u001B[38;5;28;43mopen\u001B[39;49m\u001B[43m(\u001B[49m\u001B[38;5;124;43m\"\u001B[39;49m\u001B[38;5;124;43minput.txt\u001B[39;49m\u001B[38;5;124;43m\"\u001B[39;49m\u001B[43m,\u001B[49m\u001B[43m \u001B[49m\u001B[38;5;124;43m\"\u001B[39;49m\u001B[38;5;124;43mr\u001B[39;49m\u001B[38;5;124;43m\"\u001B[39;49m\u001B[43m)\u001B[49m\n\u001B[1;32m      2\u001B[0m out_file \u001B[38;5;241m=\u001B[39m \u001B[38;5;28mopen\u001B[39m(\u001B[38;5;124m\"\u001B[39m\u001B[38;5;124moutput.txt\u001B[39m\u001B[38;5;124m\"\u001B[39m, \u001B[38;5;124m\"\u001B[39m\u001B[38;5;124mw\u001B[39m\u001B[38;5;124m\"\u001B[39m)\n\u001B[1;32m      4\u001B[0m a \u001B[38;5;241m=\u001B[39m in_file\u001B[38;5;241m.\u001B[39mreadline()\n",
      "\u001B[0;31mFileNotFoundError\u001B[0m: [Errno 2] No such file or directory: 'input.txt'"
     ]
    }
   ],
   "source": [
    "in_file = open(\"in.txt\", \"r\")\n",
    "out_file = open(\"out.txt\", \"w\")\n",
    "\n",
    "a = int(in_file.readline())\n",
    "b = int(in_file.readline())\n",
    "\n",
    "out_file.write(str(a+b))\n",
    "\n",
    "in_file.close()\n",
    "out_file.close()"
   ],
   "metadata": {
    "collapsed": false
   }
  },
  {
   "cell_type": "markdown",
   "source": [
    "## 8_F\n",
    "\n",
    "Прочитать два числа из файла и вывести их сумму в выходной файл. Так же вывести их сумму как строчек.\n"
   ],
   "metadata": {
    "collapsed": false
   }
  },
  {
   "cell_type": "code",
   "execution_count": null,
   "outputs": [],
   "source": [
    "in_file = open(\"in.txt\", \"r\")\n",
    "out_file = open(\"out.txt\", \"w\")\n",
    "\n",
    "a = int(in_file.readline())\n",
    "b = int(in_file.readline())\n",
    "\n",
    "out_file.write(str(a+b))\n",
    "out_file.write(\"\\n\")\n",
    "out_file.write(str(a)+str(b))\n",
    "\n",
    "in_file.close()\n",
    "out_file.close()"
   ],
   "metadata": {
    "collapsed": false
   }
  },
  {
   "cell_type": "markdown",
   "source": [
    "## 8_G\n",
    "\n",
    "Найти сумму двумерного массива\n",
    "\n",
    "0 < N < 100\n",
    "0 < a_i_j < 1_000_000\n"
   ],
   "metadata": {
    "collapsed": false
   }
  },
  {
   "cell_type": "code",
   "execution_count": 2,
   "outputs": [
    {
     "ename": "ValueError",
     "evalue": "not enough values to unpack (expected 2, got 0)",
     "output_type": "error",
     "traceback": [
      "\u001B[0;31m---------------------------------------------------------------------------\u001B[0m",
      "\u001B[0;31mValueError\u001B[0m                                Traceback (most recent call last)",
      "Cell \u001B[0;32mIn [2], line 3\u001B[0m\n\u001B[1;32m      1\u001B[0m \u001B[38;5;28;01mimport\u001B[39;00m \u001B[38;5;21;01mmath\u001B[39;00m\n\u001B[0;32m----> 3\u001B[0m x1, y1 \u001B[38;5;241m=\u001B[39m [\u001B[38;5;28mint\u001B[39m(i) \u001B[38;5;28;01mfor\u001B[39;00m i \u001B[38;5;129;01min\u001B[39;00m \u001B[38;5;28minput\u001B[39m()\u001B[38;5;241m.\u001B[39msplit()]\n\u001B[1;32m      4\u001B[0m x2, y2 \u001B[38;5;241m=\u001B[39m [\u001B[38;5;28mint\u001B[39m(i) \u001B[38;5;28;01mfor\u001B[39;00m i \u001B[38;5;129;01min\u001B[39;00m \u001B[38;5;28minput\u001B[39m()\u001B[38;5;241m.\u001B[39msplit()]\n\u001B[1;32m      6\u001B[0m d \u001B[38;5;241m=\u001B[39m math\u001B[38;5;241m.\u001B[39msqrt((x2 \u001B[38;5;241m-\u001B[39m x1) \u001B[38;5;241m*\u001B[39m\u001B[38;5;241m*\u001B[39m \u001B[38;5;241m2\u001B[39m \u001B[38;5;241m+\u001B[39m (y2 \u001B[38;5;241m-\u001B[39m y1) \u001B[38;5;241m*\u001B[39m\u001B[38;5;241m*\u001B[39m \u001B[38;5;241m2\u001B[39m)\n",
      "\u001B[0;31mValueError\u001B[0m: not enough values to unpack (expected 2, got 0)"
     ]
    }
   ],
   "source": [
    "in_file = open(\"in.txt\", \"r\")\n",
    "out_file = open(\"out.txt\", \"w\")\n",
    "\n",
    "\n",
    "n = int(in_file.readline())\n",
    "arr = [[int(j) for j in in_file.readline().split()] for i in range(n)]\n",
    "\n",
    "sum_ = 0\n",
    "for i in range( 0, len(arr) ) :\n",
    "\tfor j in range( 0, len(arr[i]) ):\n",
    "\t\tsum_ += arr[i][j]\n",
    "\n",
    "out_file.write(str(sum_))\n",
    "\n",
    "in_file.close()\n",
    "out_file.close()"
   ],
   "metadata": {
    "collapsed": false
   }
  },
  {
   "cell_type": "markdown",
   "source": [
    "## 8_H\n",
    "\n",
    "Напишите функцию, которая читает число в рамочке"
   ],
   "metadata": {
    "collapsed": false
   }
  },
  {
   "cell_type": "code",
   "execution_count": null,
   "outputs": [],
   "source": [
    "# Напишите функцию, которая читает число в рамочке\n",
    "\n",
    "out_file = open(\"out.txt\", \"w\")\n",
    "\n",
    "# in : none\n",
    "# out : int\n",
    "# считывает из ввода число обрамленное в рамочку\n",
    "def my_input():\n",
    "\n",
    "    in_file = open(\"in.txt\", \"r\")\n",
    "    buff = in_file.readline()\n",
    "\n",
    "    symbol = in_file.readline().split(\" \")\n",
    "    symbol = int(symbol[1])\n",
    "\n",
    "    buff = in_file.readline()\n",
    "    in_file.close()\n",
    "    return symbol\n",
    "\n",
    "a = my_input()\n",
    "out_file.write(str(a))\n",
    "\n",
    "out_file.close()"
   ],
   "metadata": {
    "collapsed": false
   }
  },
  {
   "cell_type": "markdown",
   "source": [
    "## 8_I\n",
    "\n",
    "Кузнечик хочет попасть из дома в кружок 123.\n",
    "\n",
    "Он может прыгать на два или на один метр.\n",
    "\n",
    "Кружок находиться в Х метрах от дома.\n",
    "\n",
    "Сколько способов ему допрыгать до кружка?"
   ],
   "metadata": {
    "collapsed": false
   }
  },
  {
   "cell_type": "code",
   "execution_count": null,
   "outputs": [],
   "source": [
    "\n",
    "in_file = open(\"in.txt\", \"r\")\n",
    "out_file = open(\"out.txt\", \"w\")\n",
    "\n",
    "x = int(in_file.readline())\n",
    "\n",
    "# создаем начальные состояния\n",
    "dp = []\n",
    "dp.append(1) # добраться до начальной клетки 1 способ - остаться на ней\n",
    "dp.append(1) # добраться до 1-ой клетки 1 способ - 1 раз прыгнуть\n",
    "\n",
    "# начинаем с первого неопределенного состояния\n",
    "for i in range(2, x):\n",
    "\n",
    "    # задаем новое состояние\n",
    "    new_point = dp[i-1] + dp[i-2]\n",
    "\n",
    "    # немного места (см. след пункт)\n",
    "\n",
    "    # добавляем его в массив\n",
    "    dp.append(new_point)\n",
    "\n",
    "# печатаем результат\n",
    "out_file.write(str(dp[:x]))\n",
    "\n",
    "in_file.close()\n",
    "out_file.close()"
   ],
   "metadata": {
    "collapsed": false
   }
  },
  {
   "cell_type": "markdown",
   "source": [
    "## 8_J\n",
    "\n",
    "Вывести все вхождения элемента в массиве в массив индексов"
   ],
   "metadata": {
    "collapsed": false
   }
  },
  {
   "cell_type": "code",
   "execution_count": 2,
   "outputs": [
    {
     "name": "stdout",
     "output_type": "stream",
     "text": [
      "0.6 4.0\n"
     ]
    }
   ],
   "source": [
    "\n",
    "in_file = open(\"in.txt\", \"r\")\n",
    "out_file = open(\"out.txt\", \"w\")\n",
    "\n",
    "x1, y1 = [int(i) for i in in_file.readline().split()]\n",
    "x2, y2 = [int(i) for i in in_file.readline().split()]\n",
    "\n",
    "out_file.write((x2 - x1), (y2 - y1))\n",
    "\n",
    "in_file.close()\n",
    "out_file.close()"
   ],
   "metadata": {
    "collapsed": false
   }
  },
  {
   "cell_type": "code",
   "execution_count": null,
   "outputs": [],
   "source": [],
   "metadata": {
    "collapsed": false
   }
  }
 ],
 "metadata": {
  "kernelspec": {
   "display_name": "Python 3",
   "language": "python",
   "name": "python3"
  },
  "language_info": {
   "codemirror_mode": {
    "name": "ipython",
    "version": 2
   },
   "file_extension": ".py",
   "mimetype": "text/x-python",
   "name": "python",
   "nbconvert_exporter": "python",
   "pygments_lexer": "ipython2",
   "version": "2.7.6"
  }
 },
 "nbformat": 4,
 "nbformat_minor": 0
}
