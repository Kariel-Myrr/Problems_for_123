{
 "cells": [
  {
   "cell_type": "markdown",
   "source": [
    "# Дополнительный урок. Координаты. 1 триместр\n",
    "\n",
    "* Даны два натуральных числа. Вычислите их наибольший общий делитель при помощи алгоритма Евклида через вычитание\n",
    "* Найдите НОД двух данных чисел\n",
    "* Вам даны два числа - НОД и одно из чисел от которого его высчитывали. Найдите минимально возможное число, которое могло быть вторым числом.\n",
    "* Даны два натуральных числа. Вычислите их наибольший общий делитель при помощи алгоритма Евклида через деление\n",
    "* Даны два натуральных числа. Вычислите их наибольший общий делитель при помощи алгоритма Евклида через деление Каждый раз производя операцию деления выводите результат деления\n",
    "* Вычислите НОД обоими способами и сравните количество итераций цикла в каждом из способов.\n",
    "* Даны два натуральных числа a и b. Найдите их наибольший общий делитель d и два таких целых числа x и y, что ax+by=d. Программа должна вывести числа d, x, y.\n"
   ],
   "metadata": {
    "collapsed": false
   }
  },
  {
   "cell_type": "markdown",
   "source": [
    "## 12_A\n",
    "Даны два натуральных числа. Вычислите их наибольший общий делитель при помощи алгоритма Евклида через вычитание"
   ],
   "metadata": {
    "collapsed": false
   }
  },
  {
   "cell_type": "code",
   "execution_count": 1,
   "outputs": [
    {
     "ename": "ValueError",
     "evalue": "invalid literal for int() with base 10: ''",
     "output_type": "error",
     "traceback": [
      "\u001B[0;31m---------------------------------------------------------------------------\u001B[0m",
      "\u001B[0;31mValueError\u001B[0m                                Traceback (most recent call last)",
      "Cell \u001B[0;32mIn [1], line 2\u001B[0m\n\u001B[1;32m      1\u001B[0m arr \u001B[38;5;241m=\u001B[39m [\u001B[38;5;28mint\u001B[39m(i) \u001B[38;5;28;01mfor\u001B[39;00m i \u001B[38;5;129;01min\u001B[39;00m \u001B[38;5;28minput\u001B[39m()\u001B[38;5;241m.\u001B[39msplit()]\n\u001B[0;32m----> 2\u001B[0m x \u001B[38;5;241m=\u001B[39m \u001B[38;5;28;43mint\u001B[39;49m\u001B[43m(\u001B[49m\u001B[38;5;28;43minput\u001B[39;49m\u001B[43m(\u001B[49m\u001B[43m)\u001B[49m\u001B[43m)\u001B[49m\n\u001B[1;32m      4\u001B[0m \u001B[38;5;28;01mfor\u001B[39;00m i \u001B[38;5;129;01min\u001B[39;00m \u001B[38;5;28mrange\u001B[39m(\u001B[38;5;28mlen\u001B[39m(arr)\u001B[38;5;241m-\u001B[39m\u001B[38;5;241m1\u001B[39m, \u001B[38;5;241m0\u001B[39m, \u001B[38;5;241m-\u001B[39m\u001B[38;5;241m1\u001B[39m):\n\u001B[1;32m      5\u001B[0m     \u001B[38;5;28;01mif\u001B[39;00m x \u001B[38;5;241m==\u001B[39m arr[i]:\n",
      "\u001B[0;31mValueError\u001B[0m: invalid literal for int() with base 10: ''"
     ]
    }
   ],
   "source": [
    "a = int(input())\n",
    "b = int(input())\n",
    "while a != b:\n",
    "    if a > b:\n",
    "        a = a - b\n",
    "    else:\n",
    "        b = b - a\n",
    "print(a)\n",
    "\n"
   ],
   "metadata": {
    "collapsed": false
   }
  },
  {
   "cell_type": "markdown",
   "source": [
    "## 12_B\n",
    "\n",
    "Найдите НОД двух данных чисел"
   ],
   "metadata": {
    "collapsed": false
   }
  },
  {
   "cell_type": "code",
   "execution_count": 1,
   "outputs": [
    {
     "name": "stdout",
     "output_type": "stream",
     "text": [
      "-1\n"
     ]
    }
   ],
   "source": [
    "\n",
    "a = int(input())\n",
    "b = int(input())\n",
    "while a != b:\n",
    "    if a > b:\n",
    "        a = a - b\n",
    "    else:\n",
    "        b = b - a\n",
    "print(a)\n"
   ],
   "metadata": {
    "collapsed": false
   }
  },
  {
   "cell_type": "markdown",
   "source": [
    "## 12_C\n",
    "\n",
    "Вам даны два числа - НОД и одно из чисел от которого его высчитывали. Найдите минимально возможное число, которое могло быть вторым числом.\n",
    "\n"
   ],
   "metadata": {
    "collapsed": false
   }
  },
  {
   "cell_type": "code",
   "execution_count": null,
   "outputs": [],
   "source": [
    "\n",
    "a = int(input())\n",
    "nod = int(input())\n",
    "\n",
    "print(nod)"
   ],
   "metadata": {
    "collapsed": false
   }
  },
  {
   "cell_type": "markdown",
   "source": [
    "## 12_D\n",
    "\n",
    "Даны два натуральных числа. Вычислите их наибольший общий делитель при помощи алгоритма Евклида через деление"
   ],
   "metadata": {
    "collapsed": false
   }
  },
  {
   "cell_type": "code",
   "execution_count": null,
   "outputs": [],
   "source": [
    "a = int(input())\n",
    "b = int(input())\n",
    "\n",
    "while a != 0 and b != 0:\n",
    "    if a > b:\n",
    "        a = a % b\n",
    "    else:\n",
    "        b = b % a\n",
    "print(a + b)\n"
   ],
   "metadata": {
    "collapsed": false
   }
  },
  {
   "cell_type": "markdown",
   "source": [
    "## 12_E\n",
    "Даны два натуральных числа. Вычислите их наибольший общий делитель при помощи алгоритма Евклида через деление Каждый раз производя операцию \"деления\" выводите результат деления\n"
   ],
   "metadata": {
    "collapsed": false
   }
  },
  {
   "cell_type": "code",
   "execution_count": 3,
   "outputs": [
    {
     "ename": "FileNotFoundError",
     "evalue": "[Errno 2] No such file or directory: 'input.txt'",
     "output_type": "error",
     "traceback": [
      "\u001B[0;31m---------------------------------------------------------------------------\u001B[0m",
      "\u001B[0;31mFileNotFoundError\u001B[0m                         Traceback (most recent call last)",
      "Cell \u001B[0;32mIn [3], line 1\u001B[0m\n\u001B[0;32m----> 1\u001B[0m in_file \u001B[38;5;241m=\u001B[39m \u001B[38;5;28;43mopen\u001B[39;49m\u001B[43m(\u001B[49m\u001B[38;5;124;43m\"\u001B[39;49m\u001B[38;5;124;43minput.txt\u001B[39;49m\u001B[38;5;124;43m\"\u001B[39;49m\u001B[43m,\u001B[49m\u001B[43m \u001B[49m\u001B[38;5;124;43m\"\u001B[39;49m\u001B[38;5;124;43mr\u001B[39;49m\u001B[38;5;124;43m\"\u001B[39;49m\u001B[43m)\u001B[49m\n\u001B[1;32m      2\u001B[0m out_file \u001B[38;5;241m=\u001B[39m \u001B[38;5;28mopen\u001B[39m(\u001B[38;5;124m\"\u001B[39m\u001B[38;5;124moutput.txt\u001B[39m\u001B[38;5;124m\"\u001B[39m, \u001B[38;5;124m\"\u001B[39m\u001B[38;5;124mw\u001B[39m\u001B[38;5;124m\"\u001B[39m)\n\u001B[1;32m      4\u001B[0m a \u001B[38;5;241m=\u001B[39m in_file\u001B[38;5;241m.\u001B[39mreadline()\n",
      "\u001B[0;31mFileNotFoundError\u001B[0m: [Errno 2] No such file or directory: 'input.txt'"
     ]
    }
   ],
   "source": [
    "a = int(input())\n",
    "b = int(input())\n",
    "\n",
    "while a != 0 and b != 0:\n",
    "    if a > b:\n",
    "        a = a % b\n",
    "        print(a)\n",
    "    else:\n",
    "        b = b % a\n",
    "        print(b)\n",
    "print(a + b)"
   ],
   "metadata": {
    "collapsed": false
   }
  },
  {
   "cell_type": "markdown",
   "source": [
    "## 12_F\n",
    "\n",
    "Вычислите НОД обоими способами и сравните количество итераций цикла в каждом из способов."
   ],
   "metadata": {
    "collapsed": false
   }
  },
  {
   "cell_type": "code",
   "execution_count": null,
   "outputs": [],
   "source": [
    "a_ = int(input())\n",
    "b_ = int(input())\n",
    "\n",
    "a = a_\n",
    "b = b_\n",
    "\n",
    "counter_del = 0\n",
    "while a != 0 and b != 0:\n",
    "    counter_del += 1\n",
    "    if a > b:\n",
    "        a = a % b\n",
    "    else:\n",
    "        b = b % a\n",
    "\n",
    "a = a_\n",
    "b = b_\n",
    "\n",
    "counter_sub = 0\n",
    "while a != b:\n",
    "    counter_sub += 1\n",
    "    if a > b:\n",
    "        a = a - b\n",
    "    else:\n",
    "        b = b - a\n",
    "\n",
    "print(counter_sub, counter_del)"
   ],
   "metadata": {
    "collapsed": false
   }
  },
  {
   "cell_type": "markdown",
   "source": [
    "## 12_G\n",
    "\n",
    "Даны два натуральных числа a и b. Найдите их наибольший общий делитель d и два таких целых числа x и y, что ax+by=d. Программа должна вывести числа d, x, y.\n",
    "\n"
   ],
   "metadata": {
    "collapsed": false
   }
  },
  {
   "cell_type": "code",
   "execution_count": 2,
   "outputs": [
    {
     "ename": "ValueError",
     "evalue": "not enough values to unpack (expected 2, got 0)",
     "output_type": "error",
     "traceback": [
      "\u001B[0;31m---------------------------------------------------------------------------\u001B[0m",
      "\u001B[0;31mValueError\u001B[0m                                Traceback (most recent call last)",
      "Cell \u001B[0;32mIn [2], line 3\u001B[0m\n\u001B[1;32m      1\u001B[0m \u001B[38;5;28;01mimport\u001B[39;00m \u001B[38;5;21;01mmath\u001B[39;00m\n\u001B[0;32m----> 3\u001B[0m x1, y1 \u001B[38;5;241m=\u001B[39m [\u001B[38;5;28mint\u001B[39m(i) \u001B[38;5;28;01mfor\u001B[39;00m i \u001B[38;5;129;01min\u001B[39;00m \u001B[38;5;28minput\u001B[39m()\u001B[38;5;241m.\u001B[39msplit()]\n\u001B[1;32m      4\u001B[0m x2, y2 \u001B[38;5;241m=\u001B[39m [\u001B[38;5;28mint\u001B[39m(i) \u001B[38;5;28;01mfor\u001B[39;00m i \u001B[38;5;129;01min\u001B[39;00m \u001B[38;5;28minput\u001B[39m()\u001B[38;5;241m.\u001B[39msplit()]\n\u001B[1;32m      6\u001B[0m d \u001B[38;5;241m=\u001B[39m math\u001B[38;5;241m.\u001B[39msqrt((x2 \u001B[38;5;241m-\u001B[39m x1) \u001B[38;5;241m*\u001B[39m\u001B[38;5;241m*\u001B[39m \u001B[38;5;241m2\u001B[39m \u001B[38;5;241m+\u001B[39m (y2 \u001B[38;5;241m-\u001B[39m y1) \u001B[38;5;241m*\u001B[39m\u001B[38;5;241m*\u001B[39m \u001B[38;5;241m2\u001B[39m)\n",
      "\u001B[0;31mValueError\u001B[0m: not enough values to unpack (expected 2, got 0)"
     ]
    }
   ],
   "source": [
    "\n",
    "\n",
    "a = int(input())\n",
    "b = int(input())\n",
    "\n",
    "\n",
    "while a != 0 and b != 0:\n",
    "    counter_del += 1\n",
    "    if a > b:\n",
    "        a = a % b\n",
    "    else:\n",
    "        b = b % a\n",
    "\n",
    "d = a + b\n",
    "\n"
   ],
   "metadata": {
    "collapsed": false
   }
  },
  {
   "cell_type": "markdown",
   "source": [],
   "metadata": {
    "collapsed": false
   }
  },
  {
   "cell_type": "code",
   "execution_count": null,
   "outputs": [],
   "source": [],
   "metadata": {
    "collapsed": false
   }
  }
 ],
 "metadata": {
  "kernelspec": {
   "display_name": "Python 3",
   "language": "python",
   "name": "python3"
  },
  "language_info": {
   "codemirror_mode": {
    "name": "ipython",
    "version": 2
   },
   "file_extension": ".py",
   "mimetype": "text/x-python",
   "name": "python",
   "nbconvert_exporter": "python",
   "pygments_lexer": "ipython2",
   "version": "2.7.6"
  }
 },
 "nbformat": 4,
 "nbformat_minor": 0
}
