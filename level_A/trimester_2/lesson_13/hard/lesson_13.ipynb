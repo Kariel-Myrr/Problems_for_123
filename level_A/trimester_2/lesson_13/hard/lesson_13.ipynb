{
 "cells": [
  {
   "cell_type": "markdown",
   "source": [
    "# 13 урок. Сложные задачи\n",
    "\n",
    "\n",
    "- Напишите алгоритм Евклида через рекурсию.\n",
    "- Сумма цифр числа.\n",
    "- Максимум последовательности с концом в 0.\n",
    "  Используйте input внутри функции\n",
    "- Разверните введенное число.\n",
    "\n"
   ],
   "metadata": {
    "collapsed": false
   }
  },
  {
   "cell_type": "markdown",
   "source": [
    "## 13_A_hard\n",
    "\n",
    "Напишите алгоритм Евклида через рекурсию."
   ],
   "metadata": {
    "collapsed": false
   }
  },
  {
   "cell_type": "code",
   "execution_count": 1,
   "outputs": [
    {
     "ename": "ValueError",
     "evalue": "invalid literal for int() with base 10: ''",
     "output_type": "error",
     "traceback": [
      "\u001B[0;31m---------------------------------------------------------------------------\u001B[0m",
      "\u001B[0;31mValueError\u001B[0m                                Traceback (most recent call last)",
      "Cell \u001B[0;32mIn [1], line 2\u001B[0m\n\u001B[1;32m      1\u001B[0m arr \u001B[38;5;241m=\u001B[39m [\u001B[38;5;28mint\u001B[39m(i) \u001B[38;5;28;01mfor\u001B[39;00m i \u001B[38;5;129;01min\u001B[39;00m \u001B[38;5;28minput\u001B[39m()\u001B[38;5;241m.\u001B[39msplit()]\n\u001B[0;32m----> 2\u001B[0m x \u001B[38;5;241m=\u001B[39m \u001B[38;5;28;43mint\u001B[39;49m\u001B[43m(\u001B[49m\u001B[38;5;28;43minput\u001B[39;49m\u001B[43m(\u001B[49m\u001B[43m)\u001B[49m\u001B[43m)\u001B[49m\n\u001B[1;32m      4\u001B[0m \u001B[38;5;28;01mfor\u001B[39;00m i \u001B[38;5;129;01min\u001B[39;00m \u001B[38;5;28mrange\u001B[39m(\u001B[38;5;28mlen\u001B[39m(arr)\u001B[38;5;241m-\u001B[39m\u001B[38;5;241m1\u001B[39m, \u001B[38;5;241m0\u001B[39m, \u001B[38;5;241m-\u001B[39m\u001B[38;5;241m1\u001B[39m):\n\u001B[1;32m      5\u001B[0m     \u001B[38;5;28;01mif\u001B[39;00m x \u001B[38;5;241m==\u001B[39m arr[i]:\n",
      "\u001B[0;31mValueError\u001B[0m: invalid literal for int() with base 10: ''"
     ]
    }
   ],
   "source": [
    "\n",
    "\n",
    "def evklid(a, b):\n",
    "    if a == 0 or b == 0:\n",
    "        return a + b\n",
    "\n",
    "    if a > b:\n",
    "        return evklid(a - b, b)\n",
    "    else:\n",
    "        return evklid(a, b - a)\n",
    "\n",
    "a = int(input())\n",
    "b = int(input())\n",
    "\n",
    "print(evklid(a, b))"
   ],
   "metadata": {
    "collapsed": false
   }
  },
  {
   "cell_type": "markdown",
   "source": [
    "## 13_B_hard\n",
    "\n",
    "Сумма цифр числа."
   ],
   "metadata": {
    "collapsed": false
   }
  },
  {
   "cell_type": "code",
   "execution_count": 1,
   "outputs": [
    {
     "name": "stdout",
     "output_type": "stream",
     "text": [
      "-1\n"
     ]
    }
   ],
   "source": [
    "\n",
    "def my_sum(a):\n",
    "    if a == 0:\n",
    "        return 0\n",
    "    return my_sum(a//10) + a % 10\n",
    "\n",
    "\n",
    "a = int(input())\n",
    "print(my_sum(a))\n"
   ],
   "metadata": {
    "collapsed": false
   }
  },
  {
   "cell_type": "markdown",
   "source": [
    "## 13_C_hard\n",
    "\n",
    "Максимум последовательности с концом в 0.\n",
    "Используйте input внутри функции\n"
   ],
   "metadata": {
    "collapsed": false
   }
  },
  {
   "cell_type": "code",
   "execution_count": null,
   "outputs": [],
   "source": [
    "\n",
    "def my_max():\n",
    "    a = int(input())\n",
    "    if a == 0:\n",
    "        return -1\n",
    "    max_ = my_max()\n",
    "    if a < max_:\n",
    "        return max_\n",
    "    else:\n",
    "        return a\n",
    "\n",
    "\n",
    "\n",
    "print(my_max())\n"
   ],
   "metadata": {
    "collapsed": false
   }
  },
  {
   "cell_type": "markdown",
   "source": [
    "## 13_D_hard\n",
    "\n",
    "Разверните введенное число."
   ],
   "metadata": {
    "collapsed": false
   }
  },
  {
   "cell_type": "code",
   "execution_count": null,
   "outputs": [],
   "source": [
    "def my_sum(a):\n",
    "    if a == 0:\n",
    "        return 0\n",
    "    return my_sum(a//10) + (a % 10) * 10\n",
    "\n",
    "\n",
    "a = int(input())\n",
    "print(my_sum(a))\n"
   ],
   "metadata": {
    "collapsed": false
   }
  }
 ],
 "metadata": {
  "kernelspec": {
   "display_name": "Python 3",
   "language": "python",
   "name": "python3"
  },
  "language_info": {
   "codemirror_mode": {
    "name": "ipython",
    "version": 2
   },
   "file_extension": ".py",
   "mimetype": "text/x-python",
   "name": "python",
   "nbconvert_exporter": "python",
   "pygments_lexer": "ipython2",
   "version": "2.7.6"
  }
 },
 "nbformat": 4,
 "nbformat_minor": 0
}
